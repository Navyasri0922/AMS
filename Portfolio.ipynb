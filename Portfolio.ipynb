{
  "nbformat": 4,
  "nbformat_minor": 0,
  "metadata": {
    "colab": {
      "provenance": [],
      "authorship_tag": "ABX9TyPdnxxrZM3Klu2fxYjdF+nm",
      "include_colab_link": true
    },
    "kernelspec": {
      "name": "python3",
      "display_name": "Python 3"
    },
    "language_info": {
      "name": "python"
    }
  },
  "cells": [
    {
      "cell_type": "markdown",
      "metadata": {
        "id": "view-in-github",
        "colab_type": "text"
      },
      "source": [
        "<a href=\"https://colab.research.google.com/github/Navyasri0922/AMS/blob/main/Portfolio.ipynb\" target=\"_parent\"><img src=\"https://colab.research.google.com/assets/colab-badge.svg\" alt=\"Open In Colab\"/></a>"
      ]
    },
    {
      "cell_type": "code",
      "source": [
        "# install pyspark\n",
        "!pip3 install pyspark"
      ],
      "metadata": {
        "colab": {
          "base_uri": "https://localhost:8080/"
        },
        "id": "jrTxcF3NxxAN",
        "outputId": "f3fb7285-3653-4059-d859-c60bd7a61468"
      },
      "execution_count": 1,
      "outputs": [
        {
          "output_type": "stream",
          "name": "stdout",
          "text": [
            "Requirement already satisfied: pyspark in /usr/local/lib/python3.11/dist-packages (3.5.1)\n",
            "Requirement already satisfied: py4j==0.10.9.7 in /usr/local/lib/python3.11/dist-packages (from pyspark) (0.10.9.7)\n"
          ]
        }
      ]
    },
    {
      "cell_type": "code",
      "source": [
        "from pyspark.sql import SparkSession\n",
        "from pyspark.ml.feature import VectorAssembler, StandardScaler\n",
        "from pyspark.ml.regression import LinearRegression\n",
        "from pyspark.ml.evaluation import RegressionEvaluator\n",
        "\n",
        "# Initialize SparkSession\n",
        "spark = SparkSession.builder \\\n",
        "                    .appName(\"LinearRegression_spark\") \\\n",
        "                    .master(\"local[*]\") \\\n",
        "                    .config(\"spark.executor.memory\", \"4g\") \\\n",
        "                    .config(\"spark.driver.memory\", \"2g\") \\\n",
        "                    .config(\"spark.executor.cores\", \"2\") \\\n",
        "                    .config(\"spark.sql.inMemoryColumnarStorage.compressed\", \"true\") \\\n",
        "                    .getOrCreate()\n",
        "\n",
        "\n",
        "spark"
      ],
      "metadata": {
        "colab": {
          "base_uri": "https://localhost:8080/",
          "height": 219
        },
        "id": "q0wp3VGOihOK",
        "outputId": "ac8bb067-466a-4f13-854e-9e79da0d42aa"
      },
      "execution_count": 2,
      "outputs": [
        {
          "output_type": "execute_result",
          "data": {
            "text/plain": [
              "<pyspark.sql.session.SparkSession at 0x78fd47683dd0>"
            ],
            "text/html": [
              "\n",
              "            <div>\n",
              "                <p><b>SparkSession - in-memory</b></p>\n",
              "                \n",
              "        <div>\n",
              "            <p><b>SparkContext</b></p>\n",
              "\n",
              "            <p><a href=\"http://b7ca8eb5484a:4040\">Spark UI</a></p>\n",
              "\n",
              "            <dl>\n",
              "              <dt>Version</dt>\n",
              "                <dd><code>v3.5.1</code></dd>\n",
              "              <dt>Master</dt>\n",
              "                <dd><code>local[*]</code></dd>\n",
              "              <dt>AppName</dt>\n",
              "                <dd><code>LinearRegression_spark</code></dd>\n",
              "            </dl>\n",
              "        </div>\n",
              "        \n",
              "            </div>\n",
              "        "
            ]
          },
          "metadata": {},
          "execution_count": 2
        }
      ]
    },
    {
      "cell_type": "code",
      "source": [
        "print(f\"Spark UI available at: {spark.sparkContext.uiWebUrl}\")"
      ],
      "metadata": {
        "colab": {
          "base_uri": "https://localhost:8080/"
        },
        "id": "5kbL4_mAi7Ng",
        "outputId": "5f4fda69-1d35-4cd9-d3cf-909f55c7bef0"
      },
      "execution_count": 3,
      "outputs": [
        {
          "output_type": "stream",
          "name": "stdout",
          "text": [
            "Spark UI available at: http://b7ca8eb5484a:4040\n"
          ]
        }
      ]
    },
    {
      "cell_type": "code",
      "source": [
        "spark.sparkContext.setLogLevel(\"INFO\")"
      ],
      "metadata": {
        "id": "P9_2tdBSi_kt"
      },
      "execution_count": 4,
      "outputs": []
    },
    {
      "cell_type": "code",
      "source": [
        "import psutil\n",
        "print(f\"CPU Usage: {psutil.cpu_percent()}%\")\n",
        "print(f\"Memory Usage: {psutil.virtual_memory().percent}%\")"
      ],
      "metadata": {
        "colab": {
          "base_uri": "https://localhost:8080/"
        },
        "id": "GU1qQKqXjFt5",
        "outputId": "edc3b215-3f9b-400d-c94a-556b0ef54080"
      },
      "execution_count": 5,
      "outputs": [
        {
          "output_type": "stream",
          "name": "stdout",
          "text": [
            "CPU Usage: 94.4%\n",
            "Memory Usage: 12.5%\n"
          ]
        }
      ]
    },
    {
      "cell_type": "code",
      "source": [
        "# Mount Gdrive\n",
        "from google.colab import drive\n",
        "drive.mount('/content/drive')"
      ],
      "metadata": {
        "colab": {
          "base_uri": "https://localhost:8080/"
        },
        "id": "MhJWYBU2jHb7",
        "outputId": "61aa0307-d4c5-4a87-d7ce-c0b6662fac34"
      },
      "execution_count": 6,
      "outputs": [
        {
          "output_type": "stream",
          "name": "stdout",
          "text": [
            "Mounted at /content/drive\n"
          ]
        }
      ]
    },
    {
      "cell_type": "code",
      "source": [
        "# Load the data from a CSV file\n",
        "df = spark.read.csv(\"/content/property (1).csv\", header=True, inferSchema=True)\n",
        "\n",
        "# get familiar with data\n",
        "df.show()\n",
        "\n",
        "# more info\n",
        "print(\"Total Records\",df.count())\n",
        "print(\"Total Partitions \",df.rdd.getNumPartitions())"
      ],
      "metadata": {
        "colab": {
          "base_uri": "https://localhost:8080/"
        },
        "id": "iPI2g9u1jOnf",
        "outputId": "17a43f45-e2c7-4bfc-b402-d8d7323669e4"
      },
      "execution_count": 8,
      "outputs": [
        {
          "output_type": "stream",
          "name": "stdout",
          "text": [
            "+--------------+------------+-------------+----------+--------+------------------+\n",
            "|Square_Footage|Num_Bedrooms|Num_Bathrooms|Year_Built|Lot_Size|             Price|\n",
            "+--------------+------------+-------------+----------+--------+------------------+\n",
            "|          1360|           2|            3|      1953|    7860| 303948.1373854071|\n",
            "|          4272|           3|            3|      1997|    5292| 860386.2685075302|\n",
            "|          3592|           4|            1|      1983|    9723| 734389.7538956215|\n",
            "|           966|           6|            1|      1903|    4086| 226448.8070714377|\n",
            "|          4926|           6|            4|      1944|    1081|1022486.2616704078|\n",
            "|          3944|           6|            2|      1938|    3542| 845638.1354384426|\n",
            "|          3671|           2|            1|      1963|    5105| 748779.2192281872|\n",
            "|          3419|           4|            2|      1925|    5448| 743007.2614135538|\n",
            "|           630|           2|            2|      2012|    3204| 135656.4528785377|\n",
            "|          2185|           2|            2|      1921|    7191|480153.16300188465|\n",
            "|          1269|           4|            1|      1953|    9638| 273298.1781911301|\n",
            "|          2891|           6|            2|      1991|    4596|  602871.110555334|\n",
            "|          2933|           5|            1|      1966|    4958| 636462.8293225713|\n",
            "|          1684|           2|            3|      1950|    8724|397958.90799311374|\n",
            "|          3885|           5|            2|      2021|    4695| 810991.7677926597|\n",
            "|          4617|           3|            2|      1943|    1920| 949862.1850290807|\n",
            "|          3404|           2|            3|      1923|    4183| 689906.1306948366|\n",
            "|           974|           3|            2|      2018|    8034|   199985.65592338|\n",
            "|          1582|           1|            4|      1944|    8649| 330837.2755710519|\n",
            "|          3058|           1|            2|      1952|    2572| 604113.6363094774|\n",
            "+--------------+------------+-------------+----------+--------+------------------+\n",
            "only showing top 20 rows\n",
            "\n",
            "Total Records 1000000\n",
            "Total Partitions  2\n"
          ]
        }
      ]
    },
    {
      "cell_type": "code",
      "source": [
        "# show Schema,Prints the structure of the dataset\n",
        "df.printSchema()"
      ],
      "metadata": {
        "colab": {
          "base_uri": "https://localhost:8080/"
        },
        "id": "tn3Sb-rGjemu",
        "outputId": "0254b54c-1828-49c6-82a4-ab6e2d49a9da"
      },
      "execution_count": 9,
      "outputs": [
        {
          "output_type": "stream",
          "name": "stdout",
          "text": [
            "root\n",
            " |-- Square_Footage: integer (nullable = true)\n",
            " |-- Num_Bedrooms: integer (nullable = true)\n",
            " |-- Num_Bathrooms: integer (nullable = true)\n",
            " |-- Year_Built: integer (nullable = true)\n",
            " |-- Lot_Size: integer (nullable = true)\n",
            " |-- Price: double (nullable = true)\n",
            "\n"
          ]
        }
      ]
    },
    {
      "cell_type": "code",
      "source": [
        "#Statistical Analysis\n",
        "df.describe().show()"
      ],
      "metadata": {
        "colab": {
          "base_uri": "https://localhost:8080/"
        },
        "id": "hevSVlNWjjLD",
        "outputId": "00c23cd2-47c8-4a21-8fbd-b25091266b31"
      },
      "execution_count": 10,
      "outputs": [
        {
          "output_type": "stream",
          "name": "stdout",
          "text": [
            "+-------+-----------------+-----------------+------------------+-----------------+-----------------+------------------+\n",
            "|summary|   Square_Footage|     Num_Bedrooms|     Num_Bathrooms|       Year_Built|         Lot_Size|             Price|\n",
            "+-------+-----------------+-----------------+------------------+-----------------+-----------------+------------------+\n",
            "|  count|          1000000|          1000000|           1000000|          1000000|          1000000|           1000000|\n",
            "|   mean|      2750.657104|         3.501114|          2.500439|       1960.52736|      5502.373911| 581839.6653163614|\n",
            "| stddev|1298.569362387213|1.708173784151257|1.1178528780094728|35.21780350510348|2598.885882999355|260685.36722644986|\n",
            "|    min|              500|                1|                 1|             1900|             1000| 51495.71116919513|\n",
            "|    max|             4999|                6|                 4|             2021|             9999|1123219.4691521737|\n",
            "+-------+-----------------+-----------------+------------------+-----------------+-----------------+------------------+\n",
            "\n"
          ]
        }
      ]
    },
    {
      "cell_type": "code",
      "source": [
        "print(f\"CPU Usage after openig the csv file: {psutil.cpu_percent()}%\")\n",
        "print(f\"Memory Usage after csv file: {psutil.virtual_memory().percent}%\")"
      ],
      "metadata": {
        "colab": {
          "base_uri": "https://localhost:8080/"
        },
        "id": "72YU_nU8jsBZ",
        "outputId": "802d83b4-3dc1-476f-c6d7-b3105805da3f"
      },
      "execution_count": 11,
      "outputs": [
        {
          "output_type": "stream",
          "name": "stdout",
          "text": [
            "CPU Usage after openig the csv file: 55.0%\n",
            "Memory Usage after csv file: 16.1%\n"
          ]
        }
      ]
    },
    {
      "cell_type": "code",
      "source": [
        "# check missing or null values for each column\n",
        "from pyspark.sql.functions import col,isnan, when, count\n",
        "df.select([count(when(isnan(c) | col(c).isNull(), c))\n",
        ".alias(c) for c in df.columns]).show()"
      ],
      "metadata": {
        "colab": {
          "base_uri": "https://localhost:8080/"
        },
        "id": "mLotukkgjwUA",
        "outputId": "43c31a52-a9c9-4616-b9db-a5cdc94314e2"
      },
      "execution_count": 12,
      "outputs": [
        {
          "output_type": "stream",
          "name": "stdout",
          "text": [
            "+--------------+------------+-------------+----------+--------+-----+\n",
            "|Square_Footage|Num_Bedrooms|Num_Bathrooms|Year_Built|Lot_Size|Price|\n",
            "+--------------+------------+-------------+----------+--------+-----+\n",
            "|             0|           0|            0|         0|       0|    0|\n",
            "+--------------+------------+-------------+----------+--------+-----+\n",
            "\n"
          ]
        }
      ]
    },
    {
      "cell_type": "code",
      "source": [
        "from pyspark.ml.feature import VectorAssembler\n",
        "assembler = VectorAssembler(inputCols = [\"Square_Footage\", \"Num_Bedrooms\", \"Num_Bathrooms\",\"Lot_Size\"],\n",
        "                           outputCol = \"Features\")"
      ],
      "metadata": {
        "id": "GtPsZc_5kFaP"
      },
      "execution_count": 13,
      "outputs": []
    },
    {
      "cell_type": "code",
      "source": [
        "#StandardScaler\n",
        "scaler = StandardScaler(inputCol = \"Features\",\n",
        "                        outputCol = \"scaled_Features\")"
      ],
      "metadata": {
        "id": "fD4iIlyfkSje"
      },
      "execution_count": 14,
      "outputs": []
    },
    {
      "cell_type": "code",
      "source": [
        "#create linear regression model.\n",
        "regressor = LinearRegression(labelCol = 'Price',\n",
        "                             featuresCol = 'scaled_Features'\n",
        "                             )"
      ],
      "metadata": {
        "id": "dnYOrnFKkpqI"
      },
      "execution_count": 15,
      "outputs": []
    },
    {
      "cell_type": "code",
      "source": [
        "print(f\"CPU Usage after openig the csv file: {psutil.cpu_percent()}%\")\n",
        "print(f\"Memory Usage after csv file: {psutil.virtual_memory().percent}%\")"
      ],
      "metadata": {
        "colab": {
          "base_uri": "https://localhost:8080/"
        },
        "id": "zSYMnakXlkfy",
        "outputId": "548a1594-ce1a-461e-f29c-b1be28ea01b8"
      },
      "execution_count": 16,
      "outputs": [
        {
          "output_type": "stream",
          "name": "stdout",
          "text": [
            "CPU Usage after openig the csv file: 47.0%\n",
            "Memory Usage after csv file: 16.0%\n"
          ]
        }
      ]
    },
    {
      "cell_type": "code",
      "source": [
        "from pyspark.ml import Pipeline\n",
        "pipeline  = Pipeline(stages = [assembler,scaler,regressor])\n",
        "#--Saving the Pipeline\n",
        "pipeline.write().overwrite().save(\"pipeline_LRsaved_model\")"
      ],
      "metadata": {
        "id": "7ZH6Kngplmv7"
      },
      "execution_count": 17,
      "outputs": []
    },
    {
      "cell_type": "code",
      "source": [
        "print(f\"CPU Usage after openig the csv file: {psutil.cpu_percent()}%\")\n",
        "print(f\"Memory Usage after csv file: {psutil.virtual_memory().percent}%\")"
      ],
      "metadata": {
        "colab": {
          "base_uri": "https://localhost:8080/"
        },
        "id": "oErDmg6dmrV_",
        "outputId": "933fb49a-5ac7-4681-ad5c-3f9a51b96f34"
      },
      "execution_count": 18,
      "outputs": [
        {
          "output_type": "stream",
          "name": "stdout",
          "text": [
            "CPU Usage after openig the csv file: 56.7%\n",
            "Memory Usage after csv file: 16.0%\n"
          ]
        }
      ]
    },
    {
      "cell_type": "code",
      "source": [
        "#Loading the Pipeline\n",
        "\n",
        "pipelineModel = Pipeline.load('./pipeline_LRsaved_model')"
      ],
      "metadata": {
        "id": "dVZ8JQNUmvpG"
      },
      "execution_count": 19,
      "outputs": []
    },
    {
      "cell_type": "code",
      "source": [
        "data_train , data_test = df.randomSplit([0.7,0.3], seed = 123)"
      ],
      "metadata": {
        "id": "C3g58O1nm1dD"
      },
      "execution_count": 20,
      "outputs": []
    },
    {
      "cell_type": "code",
      "source": [
        "print(f\"CPU Usage after openig the csv file: {psutil.cpu_percent()}%\")\n",
        "print(f\"Memory Usage after csv file: {psutil.virtual_memory().percent}%\")"
      ],
      "metadata": {
        "colab": {
          "base_uri": "https://localhost:8080/"
        },
        "id": "909ms0nnm2v2",
        "outputId": "56002f8b-7c6c-4dd6-84ed-d92f4ddfa1ff"
      },
      "execution_count": 21,
      "outputs": [
        {
          "output_type": "stream",
          "name": "stdout",
          "text": [
            "CPU Usage after openig the csv file: 52.6%\n",
            "Memory Usage after csv file: 16.7%\n"
          ]
        }
      ]
    },
    {
      "cell_type": "code",
      "source": [
        "Model = pipeline.fit(data_train)"
      ],
      "metadata": {
        "id": "1XijaVsCm7CS"
      },
      "execution_count": 22,
      "outputs": []
    },
    {
      "cell_type": "code",
      "source": [
        "print(f\"CPU Usage after openig the csv file: {psutil.cpu_percent()}%\")\n",
        "print(f\"Memory Usage after csv file: {psutil.virtual_memory().percent}%\")"
      ],
      "metadata": {
        "colab": {
          "base_uri": "https://localhost:8080/"
        },
        "id": "-k0317j2nyNL",
        "outputId": "30098f03-973b-43bd-a8ac-10d0641032ac"
      },
      "execution_count": 23,
      "outputs": [
        {
          "output_type": "stream",
          "name": "stdout",
          "text": [
            "CPU Usage after openig the csv file: 93.5%\n",
            "Memory Usage after csv file: 18.3%\n"
          ]
        }
      ]
    },
    {
      "cell_type": "code",
      "source": [
        "print(\"total LR cofficents\",len(Model.stages[2].coefficients) )\n",
        "print(\"Cofficientents\",Model.stages[2].coefficients)\n",
        "print(\"Intecept\",Model.stages[2].intercept)"
      ],
      "metadata": {
        "colab": {
          "base_uri": "https://localhost:8080/"
        },
        "id": "RdxwtUepn12D",
        "outputId": "fb0c4cbe-f7f3-4c1c-fcc7-473c97ea0bd7"
      },
      "execution_count": 24,
      "outputs": [
        {
          "output_type": "stream",
          "name": "stdout",
          "text": [
            "total LR cofficents 4\n",
            "Cofficientents [259711.00486894677,8489.99514668705,3381.1706206494705,258.3726928101678]\n",
            "Intecept 6183.794632154185\n"
          ]
        }
      ]
    },
    {
      "cell_type": "code",
      "source": [
        "#n the prediction phase, we test our model on some unseen data.\n",
        "pred = Model.transform(data_test)\n",
        "pred.select('prediction', 'Price').show(10, truncate = False)"
      ],
      "metadata": {
        "colab": {
          "base_uri": "https://localhost:8080/"
        },
        "id": "AMLxRYQcn5g_",
        "outputId": "ada93014-7d1f-4f10-bf04-f9a62d5f8e05"
      },
      "execution_count": 25,
      "outputs": [
        {
          "output_type": "stream",
          "name": "stdout",
          "text": [
            "+------------------+------------------+\n",
            "|prediction        |Price             |\n",
            "+------------------+------------------+\n",
            "|114478.16964496174|117632.63219959654|\n",
            "|114555.32296890616|106670.25438504865|\n",
            "|118174.56539497321|117919.45375887671|\n",
            "|117853.72289965287|119893.50473253023|\n",
            "|120390.33318083515|115218.14440379351|\n",
            "|123967.41966701507|142918.60554292126|\n",
            "|120123.70404966103|95443.54011673816 |\n",
            "|119542.96620796097|75029.23686169085 |\n",
            "|122883.32322982179|128827.18170769783|\n",
            "|125796.2548140061 |131723.44904010184|\n",
            "+------------------+------------------+\n",
            "only showing top 10 rows\n",
            "\n"
          ]
        }
      ]
    },
    {
      "cell_type": "code",
      "source": [
        "#create linear regression model.\n",
        "Lasoregressor = LinearRegression(labelCol = 'Price',\n",
        "                             featuresCol = 'scaled_Features',\n",
        "                             elasticNetParam=1,\n",
        "                             regParam=0.1\n",
        "                             )\n",
        "Lasaopipeline  = Pipeline(stages = [assembler,scaler,Lasoregressor])\n",
        "LassoModel = Lasaopipeline.fit(data_train)"
      ],
      "metadata": {
        "id": "igahb6qtoJxc"
      },
      "execution_count": 26,
      "outputs": []
    },
    {
      "cell_type": "code",
      "source": [
        "print(f\"CPU Usage after openig the csv file: {psutil.cpu_percent()}%\")\n",
        "print(f\"Memory Usage after csv file: {psutil.virtual_memory().percent}%\")"
      ],
      "metadata": {
        "colab": {
          "base_uri": "https://localhost:8080/"
        },
        "id": "XgHEtFp1ocQx",
        "outputId": "08daf730-5f21-4258-98ae-003bf2b2ce3b"
      },
      "execution_count": 27,
      "outputs": [
        {
          "output_type": "stream",
          "name": "stdout",
          "text": [
            "CPU Usage after openig the csv file: 92.8%\n",
            "Memory Usage after csv file: 19.3%\n"
          ]
        }
      ]
    },
    {
      "cell_type": "code",
      "source": [
        "#n the prediction phase, we test our model on some unseen data.\n",
        "lassopred = LassoModel.transform(data_test)\n",
        "lassopred.select('prediction', 'Price').show(10, truncate = False)"
      ],
      "metadata": {
        "colab": {
          "base_uri": "https://localhost:8080/"
        },
        "id": "-zPv_DX4ojhn",
        "outputId": "07290352-b6e0-474a-ce3b-423208b7dcc6"
      },
      "execution_count": 28,
      "outputs": [
        {
          "output_type": "stream",
          "name": "stdout",
          "text": [
            "+------------------+------------------+\n",
            "|prediction        |Price             |\n",
            "+------------------+------------------+\n",
            "|114478.71936215015|117632.63219959654|\n",
            "|114555.84295354468|106670.25438504865|\n",
            "|118174.76706989833|117919.45375887671|\n",
            "|117854.04821753985|119893.50473253023|\n",
            "|120390.75740258534|115218.14440379351|\n",
            "|123967.54182467185|142918.60554292126|\n",
            "|120123.9356246857 |95443.54011673816 |\n",
            "|119543.42158172758|75029.23686169085 |\n",
            "|122883.5677678471 |128827.18170769783|\n",
            "|125796.45323308372|131723.44904010184|\n",
            "+------------------+------------------+\n",
            "only showing top 10 rows\n",
            "\n"
          ]
        }
      ]
    },
    {
      "cell_type": "code",
      "source": [
        "#create linear regression model.\n",
        "Ridgeregressor = LinearRegression(labelCol = 'Price',\n",
        "                             featuresCol = 'scaled_Features',\n",
        "                             elasticNetParam=0,\n",
        "                             regParam=0.1\n",
        "                             )\n",
        "Ridgepipeline  = Pipeline(stages = [assembler,scaler,Ridgeregressor])\n",
        "RidgeModel = Ridgepipeline.fit(data_train)"
      ],
      "metadata": {
        "id": "x-HOkAADoqiG"
      },
      "execution_count": 29,
      "outputs": []
    },
    {
      "cell_type": "code",
      "source": [
        "#n the prediction phase, we test our model on some unseen data.\n",
        "Ridgepred = RidgeModel.transform(data_test)\n",
        "Ridgepred.select('prediction', 'Price').show(10, truncate = False)"
      ],
      "metadata": {
        "colab": {
          "base_uri": "https://localhost:8080/"
        },
        "id": "JtDzmo2Boxs5",
        "outputId": "51902f3f-ba2c-43eb-fda5-914174380de1"
      },
      "execution_count": 30,
      "outputs": [
        {
          "output_type": "stream",
          "name": "stdout",
          "text": [
            "+------------------+------------------+\n",
            "|prediction        |Price             |\n",
            "+------------------+------------------+\n",
            "|114478.34826509983|117632.63219959654|\n",
            "|114555.50164268001|106670.25438504865|\n",
            "|118174.74343768165|117919.45375887671|\n",
            "|117853.90071931662|119893.50473253023|\n",
            "|120390.50961680447|115218.14440379351|\n",
            "|123967.5954426128 |142918.60554292126|\n",
            "|120123.88129193537|95443.54011673816 |\n",
            "|119543.14304651541|75029.23686169085 |\n",
            "|122883.49924343401|128827.18170769783|\n",
            "|125796.42970553659|131723.44904010184|\n",
            "+------------------+------------------+\n",
            "only showing top 10 rows\n",
            "\n"
          ]
        }
      ]
    },
    {
      "cell_type": "code",
      "source": [
        "#Model Evaluation Spark Provides evaluation metrics\n",
        "#for regression and classification tasks.\n",
        "from pyspark.ml.evaluation import RegressionEvaluator\n",
        "evaluator_mse = RegressionEvaluator(labelCol =\n",
        "                                    'Price',\n",
        "                                    predictionCol =\n",
        "                                    'prediction',\n",
        "                                    metricName =\n",
        "                                    'mse')\n",
        "# calculate MSE\n",
        "mse1 = evaluator_mse.evaluate(pred)\n",
        "mselasso = evaluator_mse.evaluate(lassopred)\n",
        "mseridge = evaluator_mse.evaluate(Ridgepred)\n",
        "\n",
        "evaluator_rmse = RegressionEvaluator(labelCol =\n",
        "                                     'Price',\n",
        "                                     predictionCol =\n",
        "                                     'prediction',\n",
        "                                     metricName =\n",
        "                                     'rmse')\n",
        "# calculate RMSE\n",
        "rmse1 = evaluator_rmse.evaluate(pred)\n",
        "rmse2_lasso = evaluator_rmse.evaluate(lassopred)\n",
        "rmse3Ridge = evaluator_rmse.evaluate(Ridgepred)\n",
        "\n",
        "evaluator_r2 = RegressionEvaluator(labelCol = 'Price',\n",
        "                                   predictionCol = 'prediction',\n",
        "                                   metricName = 'r2')\n",
        "# calculate R_squared\n",
        "r2_score1 = evaluator_r2.evaluate(pred)\n",
        "r2_lasso = evaluator_r2.evaluate(lassopred)\n",
        "r2_ridge = evaluator_r2.evaluate(Ridgepred)\n",
        "# print the evaluation metrics\n",
        "print('Regression - MSE: ', mse1, ', RMSE: ', rmse1, ', R^2: ', r2_score1)\n",
        "print('Lasso - MSE: ', mselasso, ', RMSE: ', rmse2_lasso, ', R^2: ', r2_lasso)\n",
        "print('Ridge - MSE: ', mseridge, ', RMSE: ', rmse3Ridge, ', R^2: ', r2_ridge)"
      ],
      "metadata": {
        "colab": {
          "base_uri": "https://localhost:8080/"
        },
        "id": "EWO2ZPzZo-nF",
        "outputId": "b8a7ffd8-d18c-4428-84c0-a1ea28876a4b"
      },
      "execution_count": 31,
      "outputs": [
        {
          "output_type": "stream",
          "name": "stdout",
          "text": [
            "Regression - MSE:  410447639.3564562 , RMSE:  20259.507381880147 , R^2:  0.9939608913793314\n",
            "Lasso - MSE:  410447658.7494203 , RMSE:  20259.507860494054 , R^2:  0.9939608910939937\n",
            "Ridge - MSE:  410447639.1337195 , RMSE:  20259.50737638306 , R^2:  0.9939608913826087\n"
          ]
        }
      ]
    },
    {
      "cell_type": "code",
      "source": [
        "# plot\n",
        "import matplotlib.pyplot as plt\n",
        "import numpy as np\n",
        "\n",
        "mse = [mse1, mselasso, mseridge]\n",
        "rmse = [rmse1, rmse2_lasso, rmse3Ridge]\n",
        "r2_score = [r2_score1, rmse2_lasso, r2_ridge]\n",
        "\n",
        "positions = np.arange(len(mse))\n",
        "bar_width = 0.1\n",
        "\n",
        "plt.bar(positions - bar_width, mse, width = bar_width, label = 'MSE')\n",
        "plt.bar(positions, rmse, width = bar_width, label = 'RMSE')\n",
        "plt.bar(positions + bar_width, r2_score, width = bar_width, label = 'R2_Score')\n",
        "\n",
        "# adding labels and title\n",
        "plt.xlabel('Model')\n",
        "plt.ylabel('Scores')\n",
        "plt.title('Comparison of Regression Metrics')\n",
        "\n",
        "# adding the legend\n",
        "plt.legend()\n",
        "plt.xticks(positions, ['Regression', 'Lasso', 'Ridge'])\n",
        "plt.show()"
      ],
      "metadata": {
        "colab": {
          "base_uri": "https://localhost:8080/",
          "height": 472
        },
        "id": "ebsSQChEpNB8",
        "outputId": "8b4398ed-b5bd-4aec-ccb3-4f3649c0b52f"
      },
      "execution_count": 32,
      "outputs": [
        {
          "output_type": "display_data",
          "data": {
            "text/plain": [
              "<Figure size 640x480 with 1 Axes>"
            ],
            "image/png": "[encoded data removed]"
          },
          "metadata": {}
        }
      ]
    }
  ]
}